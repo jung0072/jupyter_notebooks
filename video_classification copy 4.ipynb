{
  "cells": [
    {
      "cell_type": "code",
      "execution_count": 1,
      "metadata": {
        "colab": {
          "base_uri": "https://localhost:8080/"
        },
        "id": "NN9f1BlmFOUi",
        "outputId": "e7acddf7-3078-407f-f02f-ab73aa5f23ed"
      },
      "outputs": [],
      "source": [
        "# from google.colab import drive\n",
        "# drive.mount('/content/drive')"
      ]
    },
    {
      "cell_type": "code",
      "execution_count": 2,
      "metadata": {
        "id": "rE02sO-nE2gs"
      },
      "outputs": [
        {
          "name": "stdout",
          "output_type": "stream",
          "text": [
            "PyTorch version: 2.0.1\n",
            "Is MPS (Metal Performance Shader) built? True\n",
            "Is MPS available? True\n",
            "Using device: mps\n"
          ]
        }
      ],
      "source": [
        "import torch\n",
        "import matplotlib.pyplot as plt\n",
        "import numpy as np\n",
        "import os\n",
        "import pandas as pd\n",
        "from timeit import default_timer as timer \n",
        "\n",
        "print(f\"PyTorch version: {torch.__version__}\")\n",
        "\n",
        "# Check PyTorch has access to MPS (Metal Performance Shader, Apple's GPU architecture)\n",
        "print(f\"Is MPS (Metal Performance Shader) built? {torch.backends.mps.is_built()}\")\n",
        "print(f\"Is MPS available? {torch.backends.mps.is_available()}\")\n",
        "\n",
        "# Set the device      \n",
        "device = \"mps\" if torch.backends.mps.is_available() else \"cpu\"\n",
        "print(f\"Using device: {device}\")"
      ]
    },
    {
      "cell_type": "markdown",
      "metadata": {
        "id": "E5XBkhoBE2gu"
      },
      "source": [
        "# 1. Preparing data"
      ]
    },
    {
      "cell_type": "code",
      "execution_count": 3,
      "metadata": {
        "id": "m94KrPQzE2gv"
      },
      "outputs": [],
      "source": [
        "# For Colab\n",
        "# ucf_train_data_preprocessed_dir = \"/content/drive/My Drive/Minki_ML_Data_free_to_delete/\"\n",
        "\n",
        "ucf_train_data_preprocessed_dir = \"../resources/UCF-101/data_preprocessed/train\"\n",
        "ucf_test_data_preprocessed_dir = \"../resources/UCF-101/data_preprocessed/test\"\n",
        "batch_size = 512"
      ]
    },
    {
      "cell_type": "code",
      "execution_count": 4,
      "metadata": {},
      "outputs": [],
      "source": [
        "class_list = os.listdir(ucf_train_data_preprocessed_dir)\n",
        "class_list_test = os.listdir(ucf_test_data_preprocessed_dir)"
      ]
    },
    {
      "cell_type": "code",
      "execution_count": 5,
      "metadata": {
        "id": "-IJ_Vh4WE2gw"
      },
      "outputs": [],
      "source": [
        "from torch.utils.data import Dataset\n",
        "\n",
        "class UCFDataset(Dataset):\n",
        "    def __init__(self, root_dir, frames_per_clip, transform=None):\n",
        "        self.root_dir = root_dir\n",
        "        self.frames_per_clip = frames_per_clip\n",
        "        self.transform = transform\n",
        "        self.classes = sorted(file for file in os.listdir(root_dir) if file != '.DS_Store')\n",
        "\n",
        "    def __len__(self):\n",
        "        return sum([len(files) for _, _, files in os.walk(self.root_dir)])\n",
        "\n",
        "    def __getitem__(self, idx):\n",
        "        # Calculate accumulated number of videos for each class\n",
        "        accum_video_counts = [0]\n",
        "        for class_name in self.classes:\n",
        "            class_dir = os.path.join(self.root_dir, class_name)\n",
        "            accum_video_counts.append(accum_video_counts[-1] + len(os.listdir(class_dir)))\n",
        "\n",
        "        # Determine the class index\n",
        "        class_idx = next(i for i, count in enumerate(accum_video_counts[1:]) if idx < count)\n",
        "        class_name = self.classes[class_idx]\n",
        "        class_dir = os.path.join(self.root_dir, class_name)\n",
        "        video_files = sorted(os.listdir(class_dir))\n",
        "\n",
        "        # Adjust the index based on the accumulated counts\n",
        "        adjusted_idx = idx - accum_video_counts[class_idx]\n",
        "        video_name = video_files[adjusted_idx % len(video_files)]\n",
        "        video_path = os.path.join(class_dir, video_name)\n",
        "        frame_position = (adjusted_idx % len(video_files)) % self.frames_per_clip\n",
        "        frame = torch.load(video_path)[frame_position]\n",
        "        frame = frame.permute([2, 0, 1])\n",
        "        # frame = frame.to(device)\n",
        "\n",
        "        label = class_name\n",
        "        target = torch.tensor(class_list.index(label))\n",
        "        # target = target.to(device)\n",
        "\n",
        "        if self.transform:\n",
        "            frame = self.transform(frame)\n",
        "\n",
        "        return frame, target\n"
      ]
    },
    {
      "cell_type": "code",
      "execution_count": 6,
      "metadata": {
        "id": "7upTVGnjE2gx"
      },
      "outputs": [],
      "source": [
        "frames_per_clip = 5\n",
        "\n",
        "train_dataset = UCFDataset(ucf_train_data_preprocessed_dir, frames_per_clip)\n",
        "test_dataset = UCFDataset(ucf_test_data_preprocessed_dir, frames_per_clip)"
      ]
    },
    {
      "cell_type": "code",
      "execution_count": 7,
      "metadata": {},
      "outputs": [],
      "source": [
        "from torchvision.transforms.functional import resize\n",
        "\n",
        "def custom_collate_fn(batch):\n",
        "    images, labels = zip(*batch)\n",
        "\n",
        "    # Resize all images in the batch to a common size\n",
        "    images = [resize(img, (240, 320)) for img in images]\n",
        "\n",
        "    return torch.stack(images), labels"
      ]
    },
    {
      "cell_type": "code",
      "execution_count": 8,
      "metadata": {
        "id": "cg5VanrSE2gx"
      },
      "outputs": [],
      "source": [
        "\n",
        "train_loader = torch.utils.data.DataLoader(train_dataset, batch_size=batch_size, shuffle=True, collate_fn=custom_collate_fn, pin_memory=False)\n",
        "test_loader = torch.utils.data.DataLoader(test_dataset, batch_size=batch_size, shuffle=True, collate_fn=custom_collate_fn, pin_memory=False)"
      ]
    },
    {
      "cell_type": "code",
      "execution_count": 9,
      "metadata": {
        "colab": {
          "base_uri": "https://localhost:8080/",
          "height": 402
        },
        "id": "Q1io9PXmE2gx",
        "outputId": "b4a3f6de-785d-4209-d084-8a6b2b4a765f"
      },
      "outputs": [],
      "source": [
        "# Show a batch\n",
        "skip_execution = True\n",
        "\n",
        "if not skip_execution:\n",
        "    for x, y in train_loader:\n",
        "        print(\"Shape of Batch: \", x.shape)\n",
        "\n",
        "        fig, axes = plt.subplots(7,5,figsize=(10, 10))\n",
        "\n",
        "        # Loop through the subplots and display the images\n",
        "        for ax, image, label in zip(axes.flat, x, y):\n",
        "            image = image.to(dtype=torch.int)\n",
        "            image = torch.permute(image, [1,2,0])\n",
        "            ax.imshow(image)  # You can set the colormap here\n",
        "            ax.axis('off')  # Turn off axis labels and ticks\n",
        "            ax.set_title(label, fontsize=10, pad=5)  # Set title as the label\n",
        "\n",
        "\n",
        "        # Adjust spacing between subplots for better layout\n",
        "        plt.tight_layout()\n",
        "\n",
        "        # Show the grid of images\n",
        "        plt.show()\n",
        "        break\n"
      ]
    },
    {
      "cell_type": "markdown",
      "metadata": {
        "id": "hIzt6F7fE2gy"
      },
      "source": [
        "# 2. Building the model"
      ]
    },
    {
      "cell_type": "code",
      "execution_count": 10,
      "metadata": {
        "id": "P6fhmWDUL8Xm"
      },
      "outputs": [],
      "source": [
        "import torch.nn as nn\n",
        "\n",
        "def conv(input_channel, output_channel):\n",
        "  conv = nn.Conv2d(input_channel, output_channel, groups=1, bias=True, kernel_size=3, padding=0, stride=2)\n",
        "  m = nn.Sequential(conv, nn.ReLU())\n",
        "  return m"
      ]
    },
    {
      "cell_type": "code",
      "execution_count": 11,
      "metadata": {},
      "outputs": [],
      "source": [
        "full_net = nn.Sequential(\n",
        "    nn.Linear(128, 72),\n",
        "    nn.ReLU(),\n",
        ")"
      ]
    },
    {
      "cell_type": "code",
      "execution_count": 12,
      "metadata": {
        "id": "Gg_NBWTJMPQE"
      },
      "outputs": [],
      "source": [
        "cnn = nn.Sequential(\n",
        "    conv(3, 32),\n",
        "    conv(32, 64),\n",
        "    conv(64, 128),\n",
        "    nn.AdaptiveAvgPool2d(1),\n",
        "    nn.Flatten(),\n",
        "    full_net\n",
        ")"
      ]
    },
    {
      "cell_type": "markdown",
      "metadata": {},
      "source": [
        "Fully connected layer (Filtered image to class)"
      ]
    },
    {
      "cell_type": "code",
      "execution_count": 13,
      "metadata": {},
      "outputs": [],
      "source": [
        "def accuracy_top3(y, targets):\n",
        "    accuracies = []\n",
        "    _, top_3_indices = torch.topk(y, 3)\n",
        "    for target,result in zip(targets,top_3_indices):\n",
        "        # print(\"target: \", target)\n",
        "        # print(\"top_3_indices: \", result)\n",
        "        # print(\"--------\")\n",
        "        if target in result:\n",
        "            accuracies.append(1)\n",
        "        else:\n",
        "            accuracies.append(0)\n",
        "\n",
        "    return sum(accuracies) / len(accuracies)\n"
      ]
    },
    {
      "cell_type": "markdown",
      "metadata": {},
      "source": [
        "# 3. Training"
      ]
    },
    {
      "cell_type": "markdown",
      "metadata": {},
      "source": [
        "## With the training data"
      ]
    },
    {
      "cell_type": "code",
      "execution_count": 14,
      "metadata": {
        "id": "akRDPDVRE2gy"
      },
      "outputs": [],
      "source": [
        "import torch.optim as optim\n",
        "\n",
        "accuracies = []\n",
        "count = 0\n",
        "num_epochs = 0\n",
        "skip_execution = True\n",
        "\n",
        "if not skip_execution:\n",
        "    for epoch in range(num_epochs): \n",
        "        for x, y in train_loader:\n",
        "            count += 1     \n",
        "            target = [class_list.index(y[i]) for i in range(len(y))]\n",
        "            target_in_array = torch.tensor([[1 if i == value else 0 for i in range(len(class_list))] for value in target], dtype=torch.float32)\n",
        "            \n",
        "            loss_function = nn.MSELoss()\n",
        "            optimizer = optim.SGD(cnn.parameters(), lr=1e-3)\n",
        "\n",
        "            res = cnn(x)\n",
        "            accuracy = accuracy_top3(res, target)\n",
        "            accuracies.append(accuracy)\n",
        "\n",
        "            loss = loss_function(res, target_in_array)\n",
        "\n",
        "            optimizer.zero_grad()\n",
        "            loss.backward()\n",
        "            optimizer.step()\n",
        "\n",
        "    print(\"Total epoches\", count)\n",
        "    print(\"Total acc\", len(accuracies))\n",
        "    plt.plot(accuracies)\n",
        "    plt.xlabel('Batch')\n",
        "    plt.ylabel('Top-3 Accuracy')\n",
        "    plt.title('Training Top-3 Accuracy')\n",
        "    plt.ylim(0, 1)\n",
        "    plt.show()"
      ]
    },
    {
      "cell_type": "markdown",
      "metadata": {},
      "source": [
        "## Check the accuracy with the testing data"
      ]
    },
    {
      "cell_type": "code",
      "execution_count": 15,
      "metadata": {},
      "outputs": [],
      "source": [
        "\n",
        "accuracies = []\n",
        "\n",
        "skip_execution = True\n",
        "\n",
        "if not skip_execution:\n",
        "    for x, y in test_loader:\n",
        "        target = [class_list_test.index(y[i]) for i in range(len(y))]\n",
        "        \n",
        "        res = cnn(x)\n",
        "        \n",
        "        accuracy = accuracy_top3(res, target)\n",
        "        accuracies.append(accuracy)\n",
        "\n",
        "    print(\"Average accuracy: \",sum(accuracies) / len(accuracies))\n",
        "\n",
        "    print(len(accuracies))\n",
        "    plt.plot(accuracies)\n",
        "    plt.xlabel('Batch')\n",
        "    plt.ylabel('Top-3 Accuracy')\n",
        "    plt.title('Training Top-3 Accuracy')\n",
        "    plt.show()"
      ]
    },
    {
      "cell_type": "markdown",
      "metadata": {},
      "source": [
        "# 4. Troubleshooting"
      ]
    },
    {
      "cell_type": "markdown",
      "metadata": {},
      "source": [
        "I was training a model from scratch. But the frames from the videos that I’m using to train the model are too little to train image classification. I’d better use a pre-trained model."
      ]
    },
    {
      "cell_type": "code",
      "execution_count": 16,
      "metadata": {},
      "outputs": [],
      "source": [
        "import torch\n",
        "import torch.nn as nn\n",
        "import torchvision.models as models\n",
        "\n",
        "class ResNetForClassification(nn.Module):\n",
        "    def __init__(self, pretrained, num_ftrs, class_num):\n",
        "        super(ResNetForClassification, self).__init__()\n",
        "        self.pretrained = pretrained\n",
        "        self.pretrained.fc = nn.Linear(num_ftrs, class_num)\n",
        "        torch.nn.init.xavier_uniform_(self.pretrained.fc.weight)\n",
        "        self.relu = nn.ReLU()\n",
        "\n",
        "    def forward(self, x):\n",
        "        output = self.pretrained(x)\n",
        "        output = self.relu(output)\n",
        "        return output"
      ]
    },
    {
      "cell_type": "code",
      "execution_count": 17,
      "metadata": {},
      "outputs": [
        {
          "name": "stderr",
          "output_type": "stream",
          "text": [
            "/Users/jungminki/Documents/Code/ML/notebooks/env/lib/python3.8/site-packages/torchvision/models/_utils.py:208: UserWarning: The parameter 'pretrained' is deprecated since 0.13 and may be removed in the future, please use 'weights' instead.\n",
            "  warnings.warn(\n",
            "/Users/jungminki/Documents/Code/ML/notebooks/env/lib/python3.8/site-packages/torchvision/models/_utils.py:223: UserWarning: Arguments other than a weight enum or `None` for 'weights' are deprecated since 0.13 and may be removed in the future. The current behavior is equivalent to passing `weights=ResNet34_Weights.IMAGENET1K_V1`. You can also use `weights=ResNet34_Weights.DEFAULT` to get the most up-to-date weights.\n",
            "  warnings.warn(msg)\n"
          ]
        }
      ],
      "source": [
        "import torchvision.models as models\n",
        "\n",
        "# Load the pre-trained ResNet-34 model\n",
        "resnet34_pretrained = models.resnet34(pretrained=True)\n",
        "num_ftrs = resnet34_pretrained.fc.in_features\n",
        "\n",
        "resnet34 = ResNetForClassification(resnet34_pretrained, num_ftrs, 72).to(device)\n"
      ]
    },
    {
      "cell_type": "code",
      "execution_count": 29,
      "metadata": {},
      "outputs": [
        {
          "name": "stdout",
          "output_type": "stream",
          "text": [
            "0 th Batch\n",
            "1 th Batch\n",
            "2 th Batch\n",
            "3 th Batch\n",
            "4 th Batch\n",
            "5 th Batch\n",
            "6 th Batch\n",
            "7 th Batch\n"
          ]
        }
      ],
      "source": [
        "for int, (X, y) in enumerate(train_loader):\n",
        "    print(int, \"th Batch\")\n"
      ]
    },
    {
      "cell_type": "code",
      "execution_count": 24,
      "metadata": {},
      "outputs": [
        {
          "name": "stdout",
          "output_type": "stream",
          "text": [
            "Total batches:  19\n",
            "0 th Batch\n",
            "0.033203125\n",
            "1 th Batch\n",
            "0.041015625\n",
            "2 th Batch\n",
            "0.03515625\n",
            "3 th Batch\n",
            "0.037109375\n",
            "4 th Batch\n",
            "0.044921875\n",
            "5 th Batch\n",
            "0.03515625\n",
            "6 th Batch\n",
            "0.037109375\n",
            "7 th Batch\n",
            "0.048828125\n",
            "Total time:  68.43477908299997\n",
            "Total acc 8\n"
          ]
        },
        {
          "data": {
            "image/png": "[encoded data removed]",
            "text/plain": [
              "<Figure size 640x480 with 1 Axes>"
            ]
          },
          "metadata": {},
          "output_type": "display_data"
        }
      ],
      "source": [
        "import torch.optim as optim\n",
        "# from torch.profiler import profile, ProfilerActivity\n",
        "\n",
        "# with profile(activities=[ProfilerActivity.CPU], record_shapes=True) as prof:\n",
        "accuracies = []\n",
        "num_epochs = 1\n",
        "lr = 1e-5\n",
        "weight_decay = 5e-4\n",
        "\n",
        "loss_function = nn.MSELoss()\n",
        "# params_1x = [param for name, param in resnet34.named_parameters() if 'fc' not in str(name)]\n",
        "\n",
        "# Freeze all layers\n",
        "for param in resnet34.parameters():\n",
        "    param.requires_grad = False\n",
        "\n",
        "# Unfreeze the last layer (assuming it's named \"layerN\")\n",
        "for name, param in resnet34.named_parameters():\n",
        "    if \"fc\" in name:\n",
        "        param.requires_grad = True\n",
        "\n",
        "optimizer = optim.Adam(resnet34.parameters(), lr=lr, weight_decay=weight_decay)\n",
        "\n",
        "start_t = timer()\n",
        "print(\"Total batches: \", len(train_loader))\n",
        "\n",
        "for epoch in range(num_epochs): \n",
        "    for int, (X, y) in enumerate(train_loader):\n",
        "        print(int, \"th Batch\")\n",
        "        X = X.to(device)\n",
        "        optimizer.zero_grad()\n",
        "\n",
        "        y_diagonal_array = torch.zeros([batch_size, 72], device=device)\n",
        "        for i in range(batch_size):\n",
        "            y_diagonal_array[i][y[i].item()] = 1\n",
        "\n",
        "        y_diagonal_array = y_diagonal_array.to(device)\n",
        "\n",
        "        resnet34.train()\n",
        "        res = resnet34(X)\n",
        "        accuracy = accuracy_top3(res, list(y))\n",
        "        accuracies.append(accuracy)\n",
        "        print(accuracy)\n",
        "        loss = loss_function(res, y_diagonal_array)\n",
        "\n",
        "        loss.backward()\n",
        "        optimizer.step()\n",
        "\n",
        "end_t = timer()\n",
        "print(\"Total time: \", end_t - start_t)\n",
        "\n",
        "# print(prof.key_averages().table(sort_by=\"self_cpu_time_total\"))\n",
        "print(\"Total acc\", len(accuracies))\n",
        "plt.plot(accuracies)\n",
        "plt.xlabel('Batch')\n",
        "plt.ylabel('Top-3 Accuracy')\n",
        "plt.title('Training Top-3 Accuracy')\n",
        "plt.ylim(0, 1)\n",
        "plt.show()"
      ]
    },
    {
      "cell_type": "markdown",
      "metadata": {},
      "source": [
        "There is something wrong with the model. I'll try the following adjustments.\n",
        "1. Try different learning rates"
      ]
    },
    {
      "cell_type": "code",
      "execution_count": 19,
      "metadata": {},
      "outputs": [],
      "source": [
        "# # Finding learning rate\n",
        "\n",
        "# import torch.optim as optim\n",
        "\n",
        "# initial_lr = 1e-7\n",
        "# final_lr = 1\n",
        "# step_size = len(train_loader)\n",
        "# def lr_lambda(epoch):\n",
        "#     mul = (final_lr / initial_lr) ** (epoch / step_size)\n",
        "#     return mul\n",
        "# optimizer = optim.SGD(cnn.parameters(), lr=initial_lr)\n",
        "# scheduler = optim.lr_scheduler.LambdaLR(optimizer, lr_lambda)\n",
        "\n",
        "# lr_find_loss = []\n",
        "# lr_find_lr = []\n",
        "\n",
        "# # Loop through each batch to get the loss and lr\n",
        "# for i, (inputs, labels) in enumerate(train_loader):\n",
        "#     target_in_array = torch.tensor([[1 if i == value else 0 for i in range(len(class_list))] for value in labels], dtype=torch.float32)\n",
        "\n",
        "#     optimizer.zero_grad()\n",
        "#     outputs = cnn(inputs)\n",
        "#     lossFunction = nn.MSELoss()\n",
        "#     loss = lossFunction(outputs, target_in_array)\n",
        "\n",
        "#     # Record this iteration's loss and learning rate\n",
        "#     lr_find_loss.append(loss.item())\n",
        "#     lr_find_lr.append(optimizer.param_groups[0]['lr'])\n",
        "\n",
        "#     # Backward pass\n",
        "#     loss.backward()\n",
        "#     optimizer.step()\n",
        "\n",
        "#     # Step with the learning rate scheduler\n",
        "#     scheduler.step()\n",
        "\n",
        "# # Plot the learning rate range test results\n",
        "# plt.semilogx(lr_find_lr, lr_find_loss)\n",
        "# plt.xlabel(\"Learning Rate\")\n",
        "# plt.ylabel(\"Loss\")\n",
        "# plt.show()\n"
      ]
    },
    {
      "cell_type": "code",
      "execution_count": null,
      "metadata": {
        "id": "L9qRMf3sE2g1"
      },
      "outputs": [],
      "source": []
    },
    {
      "cell_type": "code",
      "execution_count": null,
      "metadata": {
        "id": "iPFJI-NLE2g2"
      },
      "outputs": [],
      "source": []
    },
    {
      "cell_type": "code",
      "execution_count": null,
      "metadata": {
        "id": "5nkfWshqE2g2"
      },
      "outputs": [],
      "source": []
    },
    {
      "cell_type": "code",
      "execution_count": null,
      "metadata": {
        "id": "il4_AxOEPJ9o"
      },
      "outputs": [],
      "source": []
    },
    {
      "cell_type": "code",
      "execution_count": null,
      "metadata": {
        "id": "BrdnorBaE2g2"
      },
      "outputs": [],
      "source": []
    },
    {
      "cell_type": "code",
      "execution_count": null,
      "metadata": {
        "id": "M5Ta7I-1E2g2"
      },
      "outputs": [],
      "source": [
        "\n"
      ]
    },
    {
      "cell_type": "code",
      "execution_count": null,
      "metadata": {},
      "outputs": [],
      "source": []
    },
    {
      "cell_type": "code",
      "execution_count": null,
      "metadata": {},
      "outputs": [],
      "source": []
    },
    {
      "cell_type": "code",
      "execution_count": null,
      "metadata": {},
      "outputs": [],
      "source": []
    },
    {
      "cell_type": "code",
      "execution_count": null,
      "metadata": {
        "id": "v-xUZn-bE2g1"
      },
      "outputs": [],
      "source": []
    },
    {
      "cell_type": "code",
      "execution_count": null,
      "metadata": {},
      "outputs": [],
      "source": []
    },
    {
      "cell_type": "markdown",
      "metadata": {},
      "source": []
    },
    {
      "cell_type": "code",
      "execution_count": null,
      "metadata": {},
      "outputs": [],
      "source": []
    },
    {
      "cell_type": "code",
      "execution_count": null,
      "metadata": {},
      "outputs": [],
      "source": []
    },
    {
      "cell_type": "code",
      "execution_count": null,
      "metadata": {},
      "outputs": [],
      "source": []
    },
    {
      "cell_type": "code",
      "execution_count": null,
      "metadata": {},
      "outputs": [],
      "source": []
    }
  ],
  "metadata": {
    "colab": {
      "provenance": []
    },
    "kernelspec": {
      "display_name": "Python 3",
      "language": "python",
      "name": "python3"
    },
    "language_info": {
      "codemirror_mode": {
        "name": "ipython",
        "version": 3
      },
      "file_extension": ".py",
      "mimetype": "text/x-python",
      "name": "python",
      "nbconvert_exporter": "python",
      "pygments_lexer": "ipython3",
      "version": "3.8.17"
    },
    "orig_nbformat": 4
  },
  "nbformat": 4,
  "nbformat_minor": 0
}
